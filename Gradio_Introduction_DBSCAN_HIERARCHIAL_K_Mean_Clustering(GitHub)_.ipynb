{
  "nbformat": 4,
  "nbformat_minor": 0,
  "metadata": {
    "colab": {
      "provenance": [],
      "include_colab_link": true
    },
    "kernelspec": {
      "name": "python3",
      "display_name": "Python 3"
    },
    "language_info": {
      "name": "python"
    }
  },
  "cells": [
    {
      "cell_type": "markdown",
      "metadata": {
        "id": "view-in-github",
        "colab_type": "text"
      },
      "source": [
        "<a href=\"https://colab.research.google.com/github/BumaranChe/GRADIO_Introduction_DBSCAN_HIRARCHIALClustering_K-Mean_Clustering/blob/main/Gradio_Introduction_DBSCAN_HIERARCHIAL_K_Mean_Clustering(GitHub)_.ipynb\" target=\"_parent\"><img src=\"https://colab.research.google.com/assets/colab-badge.svg\" alt=\"Open In Colab\"/></a>"
      ]
    },
    {
      "cell_type": "markdown",
      "source": [
        "#What is Gradio?\n",
        "Gradio is an open-source Python library that allows you to quickly create customizable UI components for your machine learning models or any Python function. It automatically generates an intuitive web interface, making it easy for anyone to interact with your code without needing to write any frontend code."
      ],
      "metadata": {
        "id": "Xdc38adO8iz5"
      }
    },
    {
      "cell_type": "markdown",
      "source": [
        "#Core Concepts\n",
        "* gradio.Interface: This is the main class you'll use. It takes a function, input components, and output components to build the UI.\n",
        "* Input Components: These define how users will provide input to your function (e.g., text boxes, image uploaders, sliders).\n",
        "* Output Components: These define how the results from your function will be displayed (e.g., text, images, plots).\n",
        "* launch(): This method starts the Gradio app, making it accessible via a local URL and optionally a public shareable link."
      ],
      "metadata": {
        "id": "4dXX3b2C83MS"
      }
    },
    {
      "cell_type": "markdown",
      "source": [
        "`pip install gradio if you are not able to import import gradio`"
      ],
      "metadata": {
        "id": "U49EPEDR9jMF"
      }
    },
    {
      "cell_type": "markdown",
      "source": [
        "#Step 1 : Import Gradio"
      ],
      "metadata": {
        "id": "A118XYxk-PKb"
      }
    },
    {
      "cell_type": "code",
      "execution_count": null,
      "metadata": {
        "id": "Si8OUvLL8MYS"
      },
      "outputs": [],
      "source": [
        "import gradio as gr"
      ]
    },
    {
      "cell_type": "markdown",
      "source": [
        "#Step 2: Write your Python function"
      ],
      "metadata": {
        "id": "WkSyRZT5-WDR"
      }
    },
    {
      "cell_type": "code",
      "source": [
        "def greet(name):\n",
        "  return f\"Hello,{name}.\""
      ],
      "metadata": {
        "id": "CjE_5sS49cr4"
      },
      "execution_count": null,
      "outputs": []
    },
    {
      "cell_type": "code",
      "source": [
        "greet(\"Bumaran\")"
      ],
      "metadata": {
        "colab": {
          "base_uri": "https://localhost:8080/",
          "height": 35
        },
        "id": "g4GImjHT-o6h",
        "outputId": "b9e1781c-5b14-4707-899f-a836c5ab7f6d"
      },
      "execution_count": null,
      "outputs": [
        {
          "output_type": "execute_result",
          "data": {
            "text/plain": [
              "'Hello,Bumaran.'"
            ],
            "application/vnd.google.colaboratory.intrinsic+json": {
              "type": "string"
            }
          },
          "metadata": {},
          "execution_count": 105
        }
      ]
    },
    {
      "cell_type": "markdown",
      "source": [
        "#Step 3 : Create a Gradio Interface"
      ],
      "metadata": {
        "id": "kCMkNe3o-vA4"
      }
    },
    {
      "cell_type": "code",
      "source": [
        "#fn: The python function\n",
        "#Input : What is the datatype you care going to input\n",
        "#Output : What datatype are your going to generate\n",
        "\n",
        "iface = gr.Interface(fn=greet,inputs='text',outputs='text')\n",
        "\n",
        "#Launch the interface\n",
        "\n",
        "iface.launch()"
      ],
      "metadata": {
        "colab": {
          "base_uri": "https://localhost:8080/",
          "height": 649
        },
        "id": "TuMklnPu-rq0",
        "outputId": "a79ddee2-340b-4fd5-be74-ef0191204603"
      },
      "execution_count": null,
      "outputs": [
        {
          "output_type": "stream",
          "name": "stdout",
          "text": [
            "It looks like you are running Gradio on a hosted Jupyter notebook, which requires `share=True`. Automatically setting `share=True` (you can turn this off by setting `share=False` in `launch()` explicitly).\n",
            "\n",
            "Colab notebook detected. To show errors in colab notebook, set debug=True in launch()\n",
            "* Running on public URL: https://d200010f1dbe2b3477.gradio.live\n",
            "\n",
            "This share link expires in 1 week. For free permanent hosting and GPU upgrades, run `gradio deploy` from the terminal in the working directory to deploy to Hugging Face Spaces (https://huggingface.co/spaces)\n"
          ]
        },
        {
          "output_type": "display_data",
          "data": {
            "text/plain": [
              "<IPython.core.display.HTML object>"
            ],
            "text/html": [
              "<div><iframe src=\"https://d200010f1dbe2b3477.gradio.live\" width=\"100%\" height=\"500\" allow=\"autoplay; camera; microphone; clipboard-read; clipboard-write;\" frameborder=\"0\" allowfullscreen></iframe></div>"
            ]
          },
          "metadata": {}
        },
        {
          "output_type": "execute_result",
          "data": {
            "text/plain": []
          },
          "metadata": {},
          "execution_count": 106
        }
      ]
    },
    {
      "cell_type": "markdown",
      "source": [
        "#Customize the interface"
      ],
      "metadata": {
        "id": "4czFfSZPAzXD"
      }
    },
    {
      "cell_type": "code",
      "source": [
        "#gr.Textbox to\n",
        "# Make input box with 2 lines(lines = 2)\n",
        "#Add placeholder text\n",
        "#label to provide input for the text box\n",
        "#Title: The title for the app\n",
        "#Provide the description of the app\n",
        "\n",
        "\n",
        "iface = gr.Interface(fn=greet,\n",
        "                     inputs=gr.Textbox(lines=1,placeholder=\"Enter your name here.....\",label=\"Your Name\"),\n",
        "                     outputs=gr.Textbox(label='Greeting',placeholder=\"Output\"),\n",
        "                     title = 'Simple Greeter App',\n",
        "                     description='This app takes your name and returns a friendly greeting.')\n",
        "\n",
        "#Launch the interface\n",
        "\n",
        "iface.launch()"
      ],
      "metadata": {
        "colab": {
          "base_uri": "https://localhost:8080/",
          "height": 649
        },
        "id": "lBJ20voN_uIX",
        "outputId": "4e95643d-32aa-4923-822e-96eb9543e84b"
      },
      "execution_count": null,
      "outputs": [
        {
          "output_type": "stream",
          "name": "stdout",
          "text": [
            "It looks like you are running Gradio on a hosted Jupyter notebook, which requires `share=True`. Automatically setting `share=True` (you can turn this off by setting `share=False` in `launch()` explicitly).\n",
            "\n",
            "Colab notebook detected. To show errors in colab notebook, set debug=True in launch()\n",
            "* Running on public URL: https://337115840f4e8c570d.gradio.live\n",
            "\n",
            "This share link expires in 1 week. For free permanent hosting and GPU upgrades, run `gradio deploy` from the terminal in the working directory to deploy to Hugging Face Spaces (https://huggingface.co/spaces)\n"
          ]
        },
        {
          "output_type": "display_data",
          "data": {
            "text/plain": [
              "<IPython.core.display.HTML object>"
            ],
            "text/html": [
              "<div><iframe src=\"https://337115840f4e8c570d.gradio.live\" width=\"100%\" height=\"500\" allow=\"autoplay; camera; microphone; clipboard-read; clipboard-write;\" frameborder=\"0\" allowfullscreen></iframe></div>"
            ]
          },
          "metadata": {}
        },
        {
          "output_type": "execute_result",
          "data": {
            "text/plain": []
          },
          "metadata": {},
          "execution_count": 107
        }
      ]
    },
    {
      "cell_type": "markdown",
      "source": [
        "#Example 2 : Multiple input and output.(Calculator App)"
      ],
      "metadata": {
        "id": "NwQKW-sLCm7E"
      }
    },
    {
      "cell_type": "code",
      "source": [
        "def calculator(num1, operation, num2):\n",
        "    if operation == \"add\":\n",
        "        return num1 + num2\n",
        "    elif operation == \"subtract\":\n",
        "        return num1 - num2\n",
        "    elif operation == \"multiply\":\n",
        "        return num1 * num2\n",
        "    elif operation == \"divide\":\n",
        "        if num2 == 0:\n",
        "            return \"Cannot divide by zero!\"\n",
        "        return num1 / num2"
      ],
      "metadata": {
        "id": "D-sOeC47CwHd"
      },
      "execution_count": null,
      "outputs": []
    },
    {
      "cell_type": "code",
      "source": [
        "calculator(2,\"add\",2)"
      ],
      "metadata": {
        "colab": {
          "base_uri": "https://localhost:8080/"
        },
        "id": "Olnpe4SzDYK9",
        "outputId": "d9b3136e-a0df-44e0-866a-8c7b89f8dbef"
      },
      "execution_count": null,
      "outputs": [
        {
          "output_type": "execute_result",
          "data": {
            "text/plain": [
              "4"
            ]
          },
          "metadata": {},
          "execution_count": 109
        }
      ]
    },
    {
      "cell_type": "code",
      "source": [
        "#When we are creating multiple input we need to create a list -> Input = []\n",
        "#gr.Number -> For numerical input\n",
        "#gr.Radio-> Create radio buttons\n",
        "#The conditions in the functions can be translated into the radio button\n",
        "\n",
        "\n",
        "iface = gr.Interface(\n",
        "    fn = calculator,\n",
        "    inputs=[gr.Number(label = 'First Number'),\n",
        "            gr.Radio(['add','subtract','multiply','divide'],label = \"Operation\"),\n",
        "            gr.Number(label='Second Number')],\n",
        "    outputs = gr.Number(label='Output'),\n",
        "    title = 'Simple Calculator',\n",
        "    description='Perform basic arithmatic operations.'\n",
        ")\n",
        "\n",
        "iface.launch()"
      ],
      "metadata": {
        "colab": {
          "base_uri": "https://localhost:8080/",
          "height": 649
        },
        "id": "G88i0j7SDdX5",
        "outputId": "335cb9e1-7587-4d5c-b416-45eea3cafeb0"
      },
      "execution_count": null,
      "outputs": [
        {
          "output_type": "stream",
          "name": "stdout",
          "text": [
            "It looks like you are running Gradio on a hosted Jupyter notebook, which requires `share=True`. Automatically setting `share=True` (you can turn this off by setting `share=False` in `launch()` explicitly).\n",
            "\n",
            "Colab notebook detected. To show errors in colab notebook, set debug=True in launch()\n",
            "* Running on public URL: https://d6979f77cd88778ad3.gradio.live\n",
            "\n",
            "This share link expires in 1 week. For free permanent hosting and GPU upgrades, run `gradio deploy` from the terminal in the working directory to deploy to Hugging Face Spaces (https://huggingface.co/spaces)\n"
          ]
        },
        {
          "output_type": "display_data",
          "data": {
            "text/plain": [
              "<IPython.core.display.HTML object>"
            ],
            "text/html": [
              "<div><iframe src=\"https://d6979f77cd88778ad3.gradio.live\" width=\"100%\" height=\"500\" allow=\"autoplay; camera; microphone; clipboard-read; clipboard-write;\" frameborder=\"0\" allowfullscreen></iframe></div>"
            ]
          },
          "metadata": {}
        },
        {
          "output_type": "execute_result",
          "data": {
            "text/plain": []
          },
          "metadata": {},
          "execution_count": 110
        }
      ]
    },
    {
      "cell_type": "markdown",
      "source": [
        "#Example 3 : Gradio app that performs K-Means Clustering on the Iris dataset."
      ],
      "metadata": {
        "id": "QMrYMfE1HlVN"
      }
    },
    {
      "cell_type": "code",
      "source": [
        "from sklearn.datasets import load_iris#Inport the iris dataset\n",
        "from sklearn.cluster import KMeans#Import the k-means clustering algo\n",
        "import matplotlib.pyplot as plt\n",
        "import pandas as pd\n",
        "\n",
        "\n",
        "\n"
      ],
      "metadata": {
        "id": "c8sZpfIzFJSO"
      },
      "execution_count": null,
      "outputs": []
    },
    {
      "cell_type": "code",
      "source": [
        "# Load Iris dataset\n",
        "\n",
        "iris = load_iris()\n",
        "df = pd.DataFrame(iris.data,columns = iris.feature_names)"
      ],
      "metadata": {
        "id": "eMPSskNrH57k"
      },
      "execution_count": null,
      "outputs": []
    },
    {
      "cell_type": "code",
      "source": [
        "#Create a function to perform K-Means cluster and plot the cluster\n",
        "\n",
        "def kmean_clustering(n_clusters,x_axis,y_axis):\n",
        "  kmeans = KMeans(n_clusters=n_clusters,random_state=0)\n",
        "  kmeans.fit(df)\n",
        "\n",
        "  df['Cluster'] = kmeans.labels_\n",
        "\n",
        "  # Plotting\n",
        "  plt.figure(figsize=(8, 5))\n",
        "  for cluster in range(n_clusters):\n",
        "        clustered_data = df[df['Cluster'] == cluster]\n",
        "        plt.scatter(clustered_data[x_axis], clustered_data[y_axis], label=f'Cluster {cluster}')\n",
        "\n",
        "  plt.scatter(kmeans.cluster_centers_[:, iris.feature_names.index(x_axis)],\n",
        "                kmeans.cluster_centers_[:, iris.feature_names.index(y_axis)],\n",
        "                color='black', marker='x', s=200, label='Centroids')\n",
        "\n",
        "  plt.xlabel(x_axis)\n",
        "  plt.ylabel(y_axis)\n",
        "  plt.title(f'K-Means Clustering with {n_clusters} Clusters')\n",
        "  plt.legend()\n",
        "  plt.grid(True)\n",
        "\n",
        "    # Save plot\n",
        "  plt.savefig('cluster_plot.png')\n",
        "  plt.close()\n",
        "\n",
        "  return 'cluster_plot.png'"
      ],
      "metadata": {
        "id": "Hdx3OMbqIJdO"
      },
      "execution_count": null,
      "outputs": []
    },
    {
      "cell_type": "markdown",
      "source": [
        "* Slider -> Creates the widget for slider.\n",
        "* 1,10  -> Minimum and maximum values of the slider .\n",
        "* value = 3 -> The default of the slider.\n",
        "* Step = 1 -> This defines the increment or decrement step when the user moves the slider.\n",
        "* label -> Label the slider."
      ],
      "metadata": {
        "id": "Y4OBX0m4KwIM"
      }
    },
    {
      "cell_type": "code",
      "source": [
        "# Gradio Interface\n",
        "feature_list = iris.feature_names#Get all the feature names\n",
        "\n",
        "interface = gr.Interface(\n",
        "    fn = kmean_clustering,\n",
        "    inputs = [\n",
        "        gr.Slider(1,10,value=3,step=1,label = \"Number of Clusters\"),\n",
        "        gr.Dropdown(feature_list,value = feature_list[0],label='X-axis Feature'),\n",
        "        gr.Dropdown(feature_list, value=feature_list[1],label = 'Y-axis Feature')\n",
        "    ],\n",
        "    outputs=gr.Image(type='filepath'),\n",
        "    title='K-Means Clustering on Iris Dataset',\n",
        "    description=\"Select the number of clusters and features to visulize K-Means clustering on Iris dataset. \"\n",
        ")\n",
        "\n",
        "interface.launch(share=True)"
      ],
      "metadata": {
        "colab": {
          "base_uri": "https://localhost:8080/",
          "height": 613
        },
        "id": "ygtyu3qmJ2zY",
        "outputId": "176f51e6-016c-4a35-9a30-bb32db4d789d"
      },
      "execution_count": null,
      "outputs": [
        {
          "output_type": "stream",
          "name": "stdout",
          "text": [
            "Colab notebook detected. To show errors in colab notebook, set debug=True in launch()\n",
            "* Running on public URL: https://7074e6868295311286.gradio.live\n",
            "\n",
            "This share link expires in 1 week. For free permanent hosting and GPU upgrades, run `gradio deploy` from the terminal in the working directory to deploy to Hugging Face Spaces (https://huggingface.co/spaces)\n"
          ]
        },
        {
          "output_type": "display_data",
          "data": {
            "text/plain": [
              "<IPython.core.display.HTML object>"
            ],
            "text/html": [
              "<div><iframe src=\"https://7074e6868295311286.gradio.live\" width=\"100%\" height=\"500\" allow=\"autoplay; camera; microphone; clipboard-read; clipboard-write;\" frameborder=\"0\" allowfullscreen></iframe></div>"
            ]
          },
          "metadata": {}
        },
        {
          "output_type": "execute_result",
          "data": {
            "text/plain": []
          },
          "metadata": {},
          "execution_count": 114
        }
      ]
    },
    {
      "cell_type": "markdown",
      "source": [
        "# Assignment -> Modify the code to implement dimension reduction with other unsupervised example."
      ],
      "metadata": {
        "id": "YgMJvyqaOCBM"
      }
    },
    {
      "cell_type": "markdown",
      "source": [
        "# **Using DBSCAN, PCA and GRADIO**"
      ],
      "metadata": {
        "id": "v6L-Cp9nDygV"
      }
    },
    {
      "cell_type": "markdown",
      "source": [
        "# 1.0 Import necessary libraries"
      ],
      "metadata": {
        "id": "dkB-7XM_MkN-"
      }
    },
    {
      "cell_type": "code",
      "source": [
        "import matplotlib.pyplot as plt\n",
        "from sklearn.decomposition import PCA\n",
        "from sklearn.cluster import DBSCAN\n",
        "from sklearn.datasets import load_iris\n",
        "import pandas as pd\n",
        "from sklearn.preprocessing import StandardScaler\n",
        "import numpy as np\n",
        "import gradio as gr\n",
        "from PIL import Image\n",
        "import io\n",
        "from mpl_toolkits.mplot3d import Axes3D"
      ],
      "metadata": {
        "id": "aslU7SZ6O1jx"
      },
      "execution_count": null,
      "outputs": []
    },
    {
      "cell_type": "markdown",
      "source": [
        "# 2.0 Load dataset"
      ],
      "metadata": {
        "id": "XjN1nLXFS77x"
      }
    },
    {
      "cell_type": "code",
      "source": [
        "iris = load_iris()\n",
        "df = pd.DataFrame(iris.data,columns = iris.feature_names)"
      ],
      "metadata": {
        "id": "4aA4y8fbRGPY"
      },
      "execution_count": null,
      "outputs": []
    },
    {
      "cell_type": "code",
      "source": [
        "df"
      ],
      "metadata": {
        "colab": {
          "base_uri": "https://localhost:8080/",
          "height": 424
        },
        "id": "GSveCjRQRXih",
        "outputId": "b17b98e7-dfc3-4dcc-c562-d0650c84a903"
      },
      "execution_count": null,
      "outputs": [
        {
          "output_type": "execute_result",
          "data": {
            "text/plain": [
              "     sepal length (cm)  sepal width (cm)  petal length (cm)  petal width (cm)\n",
              "0                  5.1               3.5                1.4               0.2\n",
              "1                  4.9               3.0                1.4               0.2\n",
              "2                  4.7               3.2                1.3               0.2\n",
              "3                  4.6               3.1                1.5               0.2\n",
              "4                  5.0               3.6                1.4               0.2\n",
              "..                 ...               ...                ...               ...\n",
              "145                6.7               3.0                5.2               2.3\n",
              "146                6.3               2.5                5.0               1.9\n",
              "147                6.5               3.0                5.2               2.0\n",
              "148                6.2               3.4                5.4               2.3\n",
              "149                5.9               3.0                5.1               1.8\n",
              "\n",
              "[150 rows x 4 columns]"
            ],
            "text/html": [
              "\n",
              "  <div id=\"df-22be9402-c015-41c1-9e90-867dc8146900\" class=\"colab-df-container\">\n",
              "    <div>\n",
              "<style scoped>\n",
              "    .dataframe tbody tr th:only-of-type {\n",
              "        vertical-align: middle;\n",
              "    }\n",
              "\n",
              "    .dataframe tbody tr th {\n",
              "        vertical-align: top;\n",
              "    }\n",
              "\n",
              "    .dataframe thead th {\n",
              "        text-align: right;\n",
              "    }\n",
              "</style>\n",
              "<table border=\"1\" class=\"dataframe\">\n",
              "  <thead>\n",
              "    <tr style=\"text-align: right;\">\n",
              "      <th></th>\n",
              "      <th>sepal length (cm)</th>\n",
              "      <th>sepal width (cm)</th>\n",
              "      <th>petal length (cm)</th>\n",
              "      <th>petal width (cm)</th>\n",
              "    </tr>\n",
              "  </thead>\n",
              "  <tbody>\n",
              "    <tr>\n",
              "      <th>0</th>\n",
              "      <td>5.1</td>\n",
              "      <td>3.5</td>\n",
              "      <td>1.4</td>\n",
              "      <td>0.2</td>\n",
              "    </tr>\n",
              "    <tr>\n",
              "      <th>1</th>\n",
              "      <td>4.9</td>\n",
              "      <td>3.0</td>\n",
              "      <td>1.4</td>\n",
              "      <td>0.2</td>\n",
              "    </tr>\n",
              "    <tr>\n",
              "      <th>2</th>\n",
              "      <td>4.7</td>\n",
              "      <td>3.2</td>\n",
              "      <td>1.3</td>\n",
              "      <td>0.2</td>\n",
              "    </tr>\n",
              "    <tr>\n",
              "      <th>3</th>\n",
              "      <td>4.6</td>\n",
              "      <td>3.1</td>\n",
              "      <td>1.5</td>\n",
              "      <td>0.2</td>\n",
              "    </tr>\n",
              "    <tr>\n",
              "      <th>4</th>\n",
              "      <td>5.0</td>\n",
              "      <td>3.6</td>\n",
              "      <td>1.4</td>\n",
              "      <td>0.2</td>\n",
              "    </tr>\n",
              "    <tr>\n",
              "      <th>...</th>\n",
              "      <td>...</td>\n",
              "      <td>...</td>\n",
              "      <td>...</td>\n",
              "      <td>...</td>\n",
              "    </tr>\n",
              "    <tr>\n",
              "      <th>145</th>\n",
              "      <td>6.7</td>\n",
              "      <td>3.0</td>\n",
              "      <td>5.2</td>\n",
              "      <td>2.3</td>\n",
              "    </tr>\n",
              "    <tr>\n",
              "      <th>146</th>\n",
              "      <td>6.3</td>\n",
              "      <td>2.5</td>\n",
              "      <td>5.0</td>\n",
              "      <td>1.9</td>\n",
              "    </tr>\n",
              "    <tr>\n",
              "      <th>147</th>\n",
              "      <td>6.5</td>\n",
              "      <td>3.0</td>\n",
              "      <td>5.2</td>\n",
              "      <td>2.0</td>\n",
              "    </tr>\n",
              "    <tr>\n",
              "      <th>148</th>\n",
              "      <td>6.2</td>\n",
              "      <td>3.4</td>\n",
              "      <td>5.4</td>\n",
              "      <td>2.3</td>\n",
              "    </tr>\n",
              "    <tr>\n",
              "      <th>149</th>\n",
              "      <td>5.9</td>\n",
              "      <td>3.0</td>\n",
              "      <td>5.1</td>\n",
              "      <td>1.8</td>\n",
              "    </tr>\n",
              "  </tbody>\n",
              "</table>\n",
              "<p>150 rows × 4 columns</p>\n",
              "</div>\n",
              "    <div class=\"colab-df-buttons\">\n",
              "\n",
              "  <div class=\"colab-df-container\">\n",
              "    <button class=\"colab-df-convert\" onclick=\"convertToInteractive('df-22be9402-c015-41c1-9e90-867dc8146900')\"\n",
              "            title=\"Convert this dataframe to an interactive table.\"\n",
              "            style=\"display:none;\">\n",
              "\n",
              "  <svg xmlns=\"http://www.w3.org/2000/svg\" height=\"24px\" viewBox=\"0 -960 960 960\">\n",
              "    <path d=\"M120-120v-720h720v720H120Zm60-500h600v-160H180v160Zm220 220h160v-160H400v160Zm0 220h160v-160H400v160ZM180-400h160v-160H180v160Zm440 0h160v-160H620v160ZM180-180h160v-160H180v160Zm440 0h160v-160H620v160Z\"/>\n",
              "  </svg>\n",
              "    </button>\n",
              "\n",
              "  <style>\n",
              "    .colab-df-container {\n",
              "      display:flex;\n",
              "      gap: 12px;\n",
              "    }\n",
              "\n",
              "    .colab-df-convert {\n",
              "      background-color: #E8F0FE;\n",
              "      border: none;\n",
              "      border-radius: 50%;\n",
              "      cursor: pointer;\n",
              "      display: none;\n",
              "      fill: #1967D2;\n",
              "      height: 32px;\n",
              "      padding: 0 0 0 0;\n",
              "      width: 32px;\n",
              "    }\n",
              "\n",
              "    .colab-df-convert:hover {\n",
              "      background-color: #E2EBFA;\n",
              "      box-shadow: 0px 1px 2px rgba(60, 64, 67, 0.3), 0px 1px 3px 1px rgba(60, 64, 67, 0.15);\n",
              "      fill: #174EA6;\n",
              "    }\n",
              "\n",
              "    .colab-df-buttons div {\n",
              "      margin-bottom: 4px;\n",
              "    }\n",
              "\n",
              "    [theme=dark] .colab-df-convert {\n",
              "      background-color: #3B4455;\n",
              "      fill: #D2E3FC;\n",
              "    }\n",
              "\n",
              "    [theme=dark] .colab-df-convert:hover {\n",
              "      background-color: #434B5C;\n",
              "      box-shadow: 0px 1px 3px 1px rgba(0, 0, 0, 0.15);\n",
              "      filter: drop-shadow(0px 1px 2px rgba(0, 0, 0, 0.3));\n",
              "      fill: #FFFFFF;\n",
              "    }\n",
              "  </style>\n",
              "\n",
              "    <script>\n",
              "      const buttonEl =\n",
              "        document.querySelector('#df-22be9402-c015-41c1-9e90-867dc8146900 button.colab-df-convert');\n",
              "      buttonEl.style.display =\n",
              "        google.colab.kernel.accessAllowed ? 'block' : 'none';\n",
              "\n",
              "      async function convertToInteractive(key) {\n",
              "        const element = document.querySelector('#df-22be9402-c015-41c1-9e90-867dc8146900');\n",
              "        const dataTable =\n",
              "          await google.colab.kernel.invokeFunction('convertToInteractive',\n",
              "                                                    [key], {});\n",
              "        if (!dataTable) return;\n",
              "\n",
              "        const docLinkHtml = 'Like what you see? Visit the ' +\n",
              "          '<a target=\"_blank\" href=https://colab.research.google.com/notebooks/data_table.ipynb>data table notebook</a>'\n",
              "          + ' to learn more about interactive tables.';\n",
              "        element.innerHTML = '';\n",
              "        dataTable['output_type'] = 'display_data';\n",
              "        await google.colab.output.renderOutput(dataTable, element);\n",
              "        const docLink = document.createElement('div');\n",
              "        docLink.innerHTML = docLinkHtml;\n",
              "        element.appendChild(docLink);\n",
              "      }\n",
              "    </script>\n",
              "  </div>\n",
              "\n",
              "\n",
              "    <div id=\"df-73e5ea9e-a00e-4db0-b3ed-61d5f0771711\">\n",
              "      <button class=\"colab-df-quickchart\" onclick=\"quickchart('df-73e5ea9e-a00e-4db0-b3ed-61d5f0771711')\"\n",
              "                title=\"Suggest charts\"\n",
              "                style=\"display:none;\">\n",
              "\n",
              "<svg xmlns=\"http://www.w3.org/2000/svg\" height=\"24px\"viewBox=\"0 0 24 24\"\n",
              "     width=\"24px\">\n",
              "    <g>\n",
              "        <path d=\"M19 3H5c-1.1 0-2 .9-2 2v14c0 1.1.9 2 2 2h14c1.1 0 2-.9 2-2V5c0-1.1-.9-2-2-2zM9 17H7v-7h2v7zm4 0h-2V7h2v10zm4 0h-2v-4h2v4z\"/>\n",
              "    </g>\n",
              "</svg>\n",
              "      </button>\n",
              "\n",
              "<style>\n",
              "  .colab-df-quickchart {\n",
              "      --bg-color: #E8F0FE;\n",
              "      --fill-color: #1967D2;\n",
              "      --hover-bg-color: #E2EBFA;\n",
              "      --hover-fill-color: #174EA6;\n",
              "      --disabled-fill-color: #AAA;\n",
              "      --disabled-bg-color: #DDD;\n",
              "  }\n",
              "\n",
              "  [theme=dark] .colab-df-quickchart {\n",
              "      --bg-color: #3B4455;\n",
              "      --fill-color: #D2E3FC;\n",
              "      --hover-bg-color: #434B5C;\n",
              "      --hover-fill-color: #FFFFFF;\n",
              "      --disabled-bg-color: #3B4455;\n",
              "      --disabled-fill-color: #666;\n",
              "  }\n",
              "\n",
              "  .colab-df-quickchart {\n",
              "    background-color: var(--bg-color);\n",
              "    border: none;\n",
              "    border-radius: 50%;\n",
              "    cursor: pointer;\n",
              "    display: none;\n",
              "    fill: var(--fill-color);\n",
              "    height: 32px;\n",
              "    padding: 0;\n",
              "    width: 32px;\n",
              "  }\n",
              "\n",
              "  .colab-df-quickchart:hover {\n",
              "    background-color: var(--hover-bg-color);\n",
              "    box-shadow: 0 1px 2px rgba(60, 64, 67, 0.3), 0 1px 3px 1px rgba(60, 64, 67, 0.15);\n",
              "    fill: var(--button-hover-fill-color);\n",
              "  }\n",
              "\n",
              "  .colab-df-quickchart-complete:disabled,\n",
              "  .colab-df-quickchart-complete:disabled:hover {\n",
              "    background-color: var(--disabled-bg-color);\n",
              "    fill: var(--disabled-fill-color);\n",
              "    box-shadow: none;\n",
              "  }\n",
              "\n",
              "  .colab-df-spinner {\n",
              "    border: 2px solid var(--fill-color);\n",
              "    border-color: transparent;\n",
              "    border-bottom-color: var(--fill-color);\n",
              "    animation:\n",
              "      spin 1s steps(1) infinite;\n",
              "  }\n",
              "\n",
              "  @keyframes spin {\n",
              "    0% {\n",
              "      border-color: transparent;\n",
              "      border-bottom-color: var(--fill-color);\n",
              "      border-left-color: var(--fill-color);\n",
              "    }\n",
              "    20% {\n",
              "      border-color: transparent;\n",
              "      border-left-color: var(--fill-color);\n",
              "      border-top-color: var(--fill-color);\n",
              "    }\n",
              "    30% {\n",
              "      border-color: transparent;\n",
              "      border-left-color: var(--fill-color);\n",
              "      border-top-color: var(--fill-color);\n",
              "      border-right-color: var(--fill-color);\n",
              "    }\n",
              "    40% {\n",
              "      border-color: transparent;\n",
              "      border-right-color: var(--fill-color);\n",
              "      border-top-color: var(--fill-color);\n",
              "    }\n",
              "    60% {\n",
              "      border-color: transparent;\n",
              "      border-right-color: var(--fill-color);\n",
              "    }\n",
              "    80% {\n",
              "      border-color: transparent;\n",
              "      border-right-color: var(--fill-color);\n",
              "      border-bottom-color: var(--fill-color);\n",
              "    }\n",
              "    90% {\n",
              "      border-color: transparent;\n",
              "      border-bottom-color: var(--fill-color);\n",
              "    }\n",
              "  }\n",
              "</style>\n",
              "\n",
              "      <script>\n",
              "        async function quickchart(key) {\n",
              "          const quickchartButtonEl =\n",
              "            document.querySelector('#' + key + ' button');\n",
              "          quickchartButtonEl.disabled = true;  // To prevent multiple clicks.\n",
              "          quickchartButtonEl.classList.add('colab-df-spinner');\n",
              "          try {\n",
              "            const charts = await google.colab.kernel.invokeFunction(\n",
              "                'suggestCharts', [key], {});\n",
              "          } catch (error) {\n",
              "            console.error('Error during call to suggestCharts:', error);\n",
              "          }\n",
              "          quickchartButtonEl.classList.remove('colab-df-spinner');\n",
              "          quickchartButtonEl.classList.add('colab-df-quickchart-complete');\n",
              "        }\n",
              "        (() => {\n",
              "          let quickchartButtonEl =\n",
              "            document.querySelector('#df-73e5ea9e-a00e-4db0-b3ed-61d5f0771711 button');\n",
              "          quickchartButtonEl.style.display =\n",
              "            google.colab.kernel.accessAllowed ? 'block' : 'none';\n",
              "        })();\n",
              "      </script>\n",
              "    </div>\n",
              "\n",
              "  <div id=\"id_607a1aea-5dc8-4463-a092-dfc763ade5ae\">\n",
              "    <style>\n",
              "      .colab-df-generate {\n",
              "        background-color: #E8F0FE;\n",
              "        border: none;\n",
              "        border-radius: 50%;\n",
              "        cursor: pointer;\n",
              "        display: none;\n",
              "        fill: #1967D2;\n",
              "        height: 32px;\n",
              "        padding: 0 0 0 0;\n",
              "        width: 32px;\n",
              "      }\n",
              "\n",
              "      .colab-df-generate:hover {\n",
              "        background-color: #E2EBFA;\n",
              "        box-shadow: 0px 1px 2px rgba(60, 64, 67, 0.3), 0px 1px 3px 1px rgba(60, 64, 67, 0.15);\n",
              "        fill: #174EA6;\n",
              "      }\n",
              "\n",
              "      [theme=dark] .colab-df-generate {\n",
              "        background-color: #3B4455;\n",
              "        fill: #D2E3FC;\n",
              "      }\n",
              "\n",
              "      [theme=dark] .colab-df-generate:hover {\n",
              "        background-color: #434B5C;\n",
              "        box-shadow: 0px 1px 3px 1px rgba(0, 0, 0, 0.15);\n",
              "        filter: drop-shadow(0px 1px 2px rgba(0, 0, 0, 0.3));\n",
              "        fill: #FFFFFF;\n",
              "      }\n",
              "    </style>\n",
              "    <button class=\"colab-df-generate\" onclick=\"generateWithVariable('df')\"\n",
              "            title=\"Generate code using this dataframe.\"\n",
              "            style=\"display:none;\">\n",
              "\n",
              "  <svg xmlns=\"http://www.w3.org/2000/svg\" height=\"24px\"viewBox=\"0 0 24 24\"\n",
              "       width=\"24px\">\n",
              "    <path d=\"M7,19H8.4L18.45,9,17,7.55,7,17.6ZM5,21V16.75L18.45,3.32a2,2,0,0,1,2.83,0l1.4,1.43a1.91,1.91,0,0,1,.58,1.4,1.91,1.91,0,0,1-.58,1.4L9.25,21ZM18.45,9,17,7.55Zm-12,3A5.31,5.31,0,0,0,4.9,8.1,5.31,5.31,0,0,0,1,6.5,5.31,5.31,0,0,0,4.9,4.9,5.31,5.31,0,0,0,6.5,1,5.31,5.31,0,0,0,8.1,4.9,5.31,5.31,0,0,0,12,6.5,5.46,5.46,0,0,0,6.5,12Z\"/>\n",
              "  </svg>\n",
              "    </button>\n",
              "    <script>\n",
              "      (() => {\n",
              "      const buttonEl =\n",
              "        document.querySelector('#id_607a1aea-5dc8-4463-a092-dfc763ade5ae button.colab-df-generate');\n",
              "      buttonEl.style.display =\n",
              "        google.colab.kernel.accessAllowed ? 'block' : 'none';\n",
              "\n",
              "      buttonEl.onclick = () => {\n",
              "        google.colab.notebook.generateWithVariable('df');\n",
              "      }\n",
              "      })();\n",
              "    </script>\n",
              "  </div>\n",
              "\n",
              "    </div>\n",
              "  </div>\n"
            ],
            "application/vnd.google.colaboratory.intrinsic+json": {
              "type": "dataframe",
              "variable_name": "df",
              "summary": "{\n  \"name\": \"df\",\n  \"rows\": 150,\n  \"fields\": [\n    {\n      \"column\": \"sepal length (cm)\",\n      \"properties\": {\n        \"dtype\": \"number\",\n        \"std\": 0.8280661279778629,\n        \"min\": 4.3,\n        \"max\": 7.9,\n        \"num_unique_values\": 35,\n        \"samples\": [\n          6.2,\n          4.5,\n          5.6\n        ],\n        \"semantic_type\": \"\",\n        \"description\": \"\"\n      }\n    },\n    {\n      \"column\": \"sepal width (cm)\",\n      \"properties\": {\n        \"dtype\": \"number\",\n        \"std\": 0.435866284936698,\n        \"min\": 2.0,\n        \"max\": 4.4,\n        \"num_unique_values\": 23,\n        \"samples\": [\n          2.3,\n          4.0,\n          3.5\n        ],\n        \"semantic_type\": \"\",\n        \"description\": \"\"\n      }\n    },\n    {\n      \"column\": \"petal length (cm)\",\n      \"properties\": {\n        \"dtype\": \"number\",\n        \"std\": 1.7652982332594667,\n        \"min\": 1.0,\n        \"max\": 6.9,\n        \"num_unique_values\": 43,\n        \"samples\": [\n          6.7,\n          3.8,\n          3.7\n        ],\n        \"semantic_type\": \"\",\n        \"description\": \"\"\n      }\n    },\n    {\n      \"column\": \"petal width (cm)\",\n      \"properties\": {\n        \"dtype\": \"number\",\n        \"std\": 0.7622376689603465,\n        \"min\": 0.1,\n        \"max\": 2.5,\n        \"num_unique_values\": 22,\n        \"samples\": [\n          0.2,\n          1.2,\n          1.3\n        ],\n        \"semantic_type\": \"\",\n        \"description\": \"\"\n      }\n    }\n  ]\n}"
            }
          },
          "metadata": {},
          "execution_count": 117
        }
      ]
    },
    {
      "cell_type": "code",
      "source": [
        "X=df.values"
      ],
      "metadata": {
        "id": "3kknObVWdTqB"
      },
      "execution_count": null,
      "outputs": []
    },
    {
      "cell_type": "markdown",
      "source": [
        "# 3.0 Create a function which includes parameter eps, min_samples, pca_components"
      ],
      "metadata": {
        "id": "I5l2UOwSMVuG"
      }
    },
    {
      "cell_type": "code",
      "source": [
        "def dbscan_iris(eps, min_samples, pca_components):\n",
        "    # Step 1: Scale the data\n",
        "    scaler = StandardScaler()\n",
        "    X_scaled = scaler.fit_transform(X)\n",
        "\n",
        "    # Step 2: Apply PCA\n",
        "    pca = PCA(n_components=pca_components)\n",
        "    X_pca = pca.fit_transform(X_scaled) #X_pca the new data frame now\n",
        "\n",
        "    # Step 3: Apply DBSCAN\n",
        "    dbscan = DBSCAN(eps=eps, min_samples=min_samples)\n",
        "    labels = dbscan.fit_predict(X_pca)\n",
        "\n",
        "    # Step 4: Plot\n",
        "    fig = plt.figure(figsize=(6, 4))\n",
        "\n",
        "    if pca_components == 3:\n",
        "        ax = fig.add_subplot(111, projection='3d')\n",
        "        for label in np.unique(labels): # This line loops through each unique cluster label found in labels array, which is the output of DBSCAN\n",
        "            cluster = X_pca[labels == label] # it returns the rows in X_pca where the label is same as labels array, this line helps to group the data by cluster\n",
        "            if label == -1:\n",
        "                ax.scatter(cluster[:, 0], cluster[:, 1],cluster[:, 2], color='grey', marker='x', label='Noise')#######333\n",
        "            else:\n",
        "                ax.scatter(cluster[:, 0], cluster[:, 1], cluster[:, 2], label=f'Cluster {label}')#cluster becomes the data frame now\n",
        "        ax.set_xlabel(\"PCA 1\")\n",
        "        ax.set_ylabel(\"PCA 2\")\n",
        "        ax.set_zlabel(\"PCA 3\")\n",
        "    else:\n",
        "        ax = fig.add_subplot(111)\n",
        "        for label in np.unique(labels): # This line loops through each unique cluster label found in labels array, which is the output of DBSCAN\n",
        "            cluster = X_pca[labels == label] # it returns the rows in X_pca where the label is same as labels array, this line helps to group the data by cluster\n",
        "            if label == -1:\n",
        "                ax.scatter(cluster[:, 0], cluster[:, 1], color='grey', marker='x', label='Noise')#######333\n",
        "            else:\n",
        "                ax.scatter(cluster[:, 0], cluster[:, 1], label=f'Cluster {label}')# cluster becomes the data frame now\n",
        "        ax.set_xlabel(\"PCA 1\")\n",
        "        ax.set_ylabel(\"PCA 2\")\n",
        "\n",
        "    ax.set_title(\"DBSCAN Clustering with PCA\")\n",
        "    ax.legend()\n",
        "\n",
        "    # Step 5: Save plot to buffer\n",
        "    buf = io.BytesIO()\n",
        "    plt.savefig(buf, format='png')\n",
        "    buf.seek(0)\n",
        "    plt.close(fig)  # Close the figure properly\n",
        "    img = Image.open(buf)\n",
        "\n",
        "    # Step 6: Return result\n",
        "    n_clusters = len(set(labels)) - (1 if -1 in labels else 0)\n",
        "    return f\"Number of clusters: {n_clusters}\", img"
      ],
      "metadata": {
        "id": "_1jn4ZjHWY1l"
      },
      "execution_count": null,
      "outputs": []
    },
    {
      "cell_type": "markdown",
      "source": [
        "This function plots 3d (3 Dimmension) if pca_components 3 selected via GRADIO interface. This function does not have x-axes and y-axes parameter. So, we cannot select the features. By default this function plots PCA1, PCA2 and PCA3 (as the name given in x-axes, y-axes and z-axes). If other than 3 pca_components selected, it will plot PCA1 (as x-axes) and PCA2 (as y-axes). The code is written in this way because after PCA (Dimension Reduction) we only able to view either 2D or 3D. So, PCA4 cannot be viewed together in one plot (2D or 3D) .\n",
        "\n",
        "eps = Epsilon = Neighborhood radius. It defines how close points need to be to each other to be considered as part of the same cluster\n",
        "\n",
        "min_samples = The minimum number of data points required within the eps radius for a point to be considered a core point.\n",
        "\n",
        "pca_components = The number of principle components you want to keep or reduce your data.\n",
        "\n",
        "Number of cluster is auto-calculated by DBSCAN function"
      ],
      "metadata": {
        "id": "2x_ySnfxIFPK"
      }
    },
    {
      "cell_type": "markdown",
      "source": [
        "# 4.0 Launch GRADIO"
      ],
      "metadata": {
        "id": "q9FGccdXMbN1"
      }
    },
    {
      "cell_type": "code",
      "source": [
        "# Gradio Interface\n",
        "demo = gr.Interface(\n",
        "    fn=dbscan_iris,\n",
        "    inputs=[\n",
        "        gr.Slider(0.1, 2.0, value=0.5, label=\"DBSCAN eps\"),\n",
        "        gr.Slider(2, 10, value=5, label=\"DBSCAN min_samples\", step=1),\n",
        "        gr.Slider(1, 4, value=2, label=\"PCA components\", step=1),\n",
        "    ],\n",
        "    outputs=[\n",
        "        gr.Text(label=\"Message\"),\n",
        "        gr.Image(label=\"Cluster Plot\")\n",
        "    ],\n",
        "    title=\"DBSCAN + PCA Clustering (Iris Dataset)\",\n",
        "    description=\"Adjust DBSCAN and PCA parameters to explore how clustering works on Iris dataset.\"\n",
        ")\n",
        "\n",
        "demo.launch()"
      ],
      "metadata": {
        "colab": {
          "base_uri": "https://localhost:8080/",
          "height": 649
        },
        "id": "Fd_Fs7XiRTha",
        "outputId": "8ceac824-1b27-42fc-f6cf-c60aee7a72f7"
      },
      "execution_count": null,
      "outputs": [
        {
          "output_type": "stream",
          "name": "stdout",
          "text": [
            "It looks like you are running Gradio on a hosted Jupyter notebook, which requires `share=True`. Automatically setting `share=True` (you can turn this off by setting `share=False` in `launch()` explicitly).\n",
            "\n",
            "Colab notebook detected. To show errors in colab notebook, set debug=True in launch()\n",
            "* Running on public URL: https://75892186b7e8a263d2.gradio.live\n",
            "\n",
            "This share link expires in 1 week. For free permanent hosting and GPU upgrades, run `gradio deploy` from the terminal in the working directory to deploy to Hugging Face Spaces (https://huggingface.co/spaces)\n"
          ]
        },
        {
          "output_type": "display_data",
          "data": {
            "text/plain": [
              "<IPython.core.display.HTML object>"
            ],
            "text/html": [
              "<div><iframe src=\"https://75892186b7e8a263d2.gradio.live\" width=\"100%\" height=\"500\" allow=\"autoplay; camera; microphone; clipboard-read; clipboard-write;\" frameborder=\"0\" allowfullscreen></iframe></div>"
            ]
          },
          "metadata": {}
        },
        {
          "output_type": "execute_result",
          "data": {
            "text/plain": []
          },
          "metadata": {},
          "execution_count": 120
        }
      ]
    },
    {
      "cell_type": "markdown",
      "source": [
        "# **Another method DBSCAN + PCA + GRADIO**"
      ],
      "metadata": {
        "id": "xpqfZHJKJoeK"
      }
    },
    {
      "cell_type": "markdown",
      "source": [
        "# 1.0 Import necessary libraries and load data"
      ],
      "metadata": {
        "id": "oSAkAukZJ9Bt"
      }
    },
    {
      "cell_type": "code",
      "source": [
        "import gradio as gr\n",
        "import pandas as pd\n",
        "import numpy as np\n",
        "import matplotlib.pyplot as plt\n",
        "from sklearn.preprocessing import StandardScaler\n",
        "from sklearn.decomposition import PCA\n",
        "from sklearn.cluster import DBSCAN\n",
        "from sklearn.datasets import load_iris\n",
        "\n",
        "# Load dataset\n",
        "iris = load_iris()\n",
        "df = pd.DataFrame(iris.data, columns=iris.feature_names)"
      ],
      "metadata": {
        "id": "UfJBUa5OJy9c"
      },
      "execution_count": null,
      "outputs": []
    },
    {
      "cell_type": "markdown",
      "source": [
        "# 2.0 Function for DBSCAN clustering with PCA"
      ],
      "metadata": {
        "id": "QqS53bf0KQam"
      }
    },
    {
      "cell_type": "code",
      "source": [
        "# DBSCAN + PCA + plotting function\n",
        "def dbscan_clustering_with_pca(eps, min_samples, x_axis, y_axis):\n",
        "    # Step 1: Scale\n",
        "    scaler = StandardScaler()\n",
        "    X_scaled = scaler.fit_transform(df)\n",
        "\n",
        "    # Step 2: PCA\n",
        "    pca = PCA(n_components=4)\n",
        "    X_pca = pca.fit_transform(X_scaled)\n",
        "    pca_df = pd.DataFrame(X_pca, columns=['sepal length (cm)', 'sepal width (cm)', 'petal length (cm)', 'petal width (cm)'])#pca_df is the ne data frame now\n",
        "\n",
        "    # Step 3: DBSCAN\n",
        "    dbscan = DBSCAN(eps=eps, min_samples=min_samples)\n",
        "    labels = dbscan.fit_predict(pca_df)\n",
        "    pca_df['Cluster'] = labels # adding labels into data frame\n",
        "\n",
        "    # Step 4: Plot\n",
        "    plt.figure(figsize=(8, 5))\n",
        "    unique_labels = set(labels)# this line gets all the unique cluster labels from labels array (outut of DBSCAN) by converting it into a set(wich automatically removes duplicate)\n",
        "    for label in unique_labels:# This line loops through each unique cluster label found in labels array, which is the output of DBSCAN\n",
        "        clustered_data = pca_df[pca_df['Cluster'] == label]# it returns the rows in pca_df where the label is same as labels array, this line helps to group the data by cluster\n",
        "        if label == -1:\n",
        "            plt.scatter(clustered_data[x_axis], clustered_data[y_axis], color='grey', marker='x', label='Noise')# clustered_data becomes the new data frame now\n",
        "        else:\n",
        "            plt.scatter(clustered_data[x_axis], clustered_data[y_axis], label=f'Cluster {label}') # it gives option to select the features named above\n",
        "                                                                                                  #--> pca_df = pd.DataFrame(X_pca, columns=['sepal length (cm)', 'sepal width (cm)', 'petal length (cm)', 'petal width (cm)'])\n",
        "    plt.xlabel(x_axis)\n",
        "    plt.ylabel(y_axis)\n",
        "    plt.title(\"DBSCAN Clustering with PCA\")\n",
        "    plt.legend()\n",
        "    plt.grid(True)\n",
        "\n",
        "    # Step 5 : Save plot\n",
        "    plot_path = \"dbscan_plot.png\"\n",
        "    plt.savefig(plot_path)\n",
        "    plt.close()\n",
        "\n",
        "    # Step 6: Cluster info\n",
        "    n_clusters = len(set(labels)) - (1 if -1 in labels else 0)\n",
        "    n_noise = list(labels).count(-1)\n",
        "    info = f\"Clusters: {n_clusters} | Noise points: {n_noise}\"\n",
        "\n",
        "    return info, plot_path"
      ],
      "metadata": {
        "id": "aYvPP8G2KOTX"
      },
      "execution_count": null,
      "outputs": []
    },
    {
      "cell_type": "markdown",
      "source": [
        "In this function we use parameter eps, min_samples, x-axes, y-axes. We use x_axes and y_axes so that we can select the features (PCA1,PCA2,PCA3,PCA4) and plot the graph accorrding it. Normally we don't choose the least important principle components (ex:PC4). But in above code we allow to choose whichever PCA that can be plotted against."
      ],
      "metadata": {
        "id": "CYvgtkNGQYow"
      }
    },
    {
      "cell_type": "markdown",
      "source": [
        "# 3.0 Launch GRADIO"
      ],
      "metadata": {
        "id": "W7iOi_MhKdW8"
      }
    },
    {
      "cell_type": "code",
      "source": [
        "# Gradio interface\n",
        "with gr.Blocks() as demo:\n",
        "    gr.Markdown(\"## DBSCAN Clustering with PCA (Iris Dataset)\")\n",
        "\n",
        "    with gr.Row():\n",
        "        eps = gr.Slider(0.1, 2.0, value=0.5, step=0.1, label=\"Epsilon (eps)\")\n",
        "        min_samples = gr.Slider(1, 10, value=5, step=1, label=\"Min Samples\")\n",
        "\n",
        "    with gr.Row():\n",
        "        x_axis = gr.Dropdown(['sepal length (cm)', 'sepal width (cm)', 'petal length (cm)', 'petal width (cm)'], value='sepal length (cm)', label=\"X Axis (PCA)\")\n",
        "        y_axis = gr.Dropdown(['sepal length (cm)', 'sepal width (cm)', 'petal length (cm)', 'petal width (cm)'], value='sepal width (cm)', label=\"Y Axis (PCA)\")\n",
        "\n",
        "    btn = gr.Button(\"Run DBSCAN\")\n",
        "    output_text = gr.Text(label=\"Clustering Info\")\n",
        "    output_img = gr.Image(type='filepath', label=\"Cluster Plot\")\n",
        "\n",
        "    btn.click(fn=dbscan_clustering_with_pca,\n",
        "              inputs=[eps, min_samples, x_axis, y_axis],\n",
        "              outputs=[output_text, output_img])\n",
        "\n",
        "# To launch the app\n",
        "demo.launch()"
      ],
      "metadata": {
        "colab": {
          "base_uri": "https://localhost:8080/",
          "height": 649
        },
        "id": "OcRRxtt2Kis3",
        "outputId": "76e08bb5-2e3a-48df-e7bc-8b80c05351ef"
      },
      "execution_count": null,
      "outputs": [
        {
          "output_type": "stream",
          "name": "stdout",
          "text": [
            "It looks like you are running Gradio on a hosted Jupyter notebook, which requires `share=True`. Automatically setting `share=True` (you can turn this off by setting `share=False` in `launch()` explicitly).\n",
            "\n",
            "Colab notebook detected. To show errors in colab notebook, set debug=True in launch()\n",
            "* Running on public URL: https://2263e6745ece398129.gradio.live\n",
            "\n",
            "This share link expires in 1 week. For free permanent hosting and GPU upgrades, run `gradio deploy` from the terminal in the working directory to deploy to Hugging Face Spaces (https://huggingface.co/spaces)\n"
          ]
        },
        {
          "output_type": "display_data",
          "data": {
            "text/plain": [
              "<IPython.core.display.HTML object>"
            ],
            "text/html": [
              "<div><iframe src=\"https://2263e6745ece398129.gradio.live\" width=\"100%\" height=\"500\" allow=\"autoplay; camera; microphone; clipboard-read; clipboard-write;\" frameborder=\"0\" allowfullscreen></iframe></div>"
            ]
          },
          "metadata": {}
        },
        {
          "output_type": "execute_result",
          "data": {
            "text/plain": []
          },
          "metadata": {},
          "execution_count": 123
        }
      ]
    },
    {
      "cell_type": "markdown",
      "source": [
        "# **Using Hierarchial Clustering, PCA and GRADIO**"
      ],
      "metadata": {
        "id": "Y4V-mq4ID5d7"
      }
    },
    {
      "cell_type": "markdown",
      "source": [
        "# 1.0 Import necessary libraries"
      ],
      "metadata": {
        "id": "kX4nJCpiEyMA"
      }
    },
    {
      "cell_type": "code",
      "source": [
        "import pandas as pd\n",
        "import matplotlib.pyplot as plt\n",
        "import seaborn as sns\n",
        "import gradio as gr\n",
        "\n",
        "from sklearn.datasets import load_iris\n",
        "from sklearn.preprocessing import StandardScaler\n",
        "from sklearn.decomposition import PCA\n",
        "from scipy.cluster.hierarchy import linkage, fcluster\n",
        "from sklearn.metrics import silhouette_score"
      ],
      "metadata": {
        "id": "DqbCkHutEBIP"
      },
      "execution_count": null,
      "outputs": []
    },
    {
      "cell_type": "markdown",
      "source": [
        "# 2.0 Load dataset"
      ],
      "metadata": {
        "id": "bOR7PYhbFLGU"
      }
    },
    {
      "cell_type": "code",
      "source": [
        "iris = load_iris()\n",
        "df = pd.DataFrame(iris.data,columns = iris.feature_names)"
      ],
      "metadata": {
        "id": "cCSaK88wFJZa"
      },
      "execution_count": null,
      "outputs": []
    },
    {
      "cell_type": "code",
      "source": [
        "X=df.values"
      ],
      "metadata": {
        "id": "HlfK86wRGPcl"
      },
      "execution_count": null,
      "outputs": []
    },
    {
      "cell_type": "markdown",
      "source": [
        "# 3.0 Create function"
      ],
      "metadata": {
        "id": "DjDNCtBnFaIH"
      }
    },
    {
      "cell_type": "code",
      "source": [
        "def hierarchical_clustering(n_clusters, pca_components):\n",
        "\n",
        "    #1.Scale the data\n",
        "    scaler = StandardScaler()\n",
        "    X_scaled = scaler.fit_transform(X)\n",
        "\n",
        "    #2.Apply PCA to reduce features\n",
        "    pca = PCA(n_components=pca_components)\n",
        "    X_pca = pca.fit_transform(X_scaled) # it becomes the new data frame\n",
        "    pca_columns = [f\"PC{i+1}\" for i in range(pca_components)]# it creates a list of strings\n",
        "    df_pca = pd.DataFrame(X_pca, columns=pca_columns) # it becomes the new data frame now\n",
        "\n",
        "    #3.Hierarchical clustering\n",
        "    Z = linkage(X_pca, method='ward')\n",
        "    selected_labels = fcluster(Z, t=n_clusters, criterion='maxclust')\n",
        "    df_pca[\"Cluster\"] = selected_labels\n",
        "\n",
        "    #4.estimate number of clustering(silhouette method) # this code here counts the best number of clusters for hierarechial clustering\n",
        "    best_k = 0\n",
        "    best_score = -1\n",
        "    for k in range(2, 10):\n",
        "            temp_labels = fcluster(Z, t=k, criterion='maxclust')\n",
        "            score = silhouette_score(X_pca, temp_labels)\n",
        "            if score > best_score:\n",
        "                best_score = score\n",
        "                best_k = k\n",
        "\n",
        "    #5.Plot\n",
        "    fig=plt.figure(figsize=(8, 5))\n",
        "    if pca_components == 3:\n",
        "        ax = fig.add_subplot(111, projection='3d')\n",
        "        for label in np.unique(selected_labels):# This line loops through each unique cluster label found in selected_labels array, which is the output of hierarchial clustering\n",
        "            cluster = X_pca[selected_labels == label]# it returns the rows in X_pca where the label is same as labels array, this line helps to group the data by cluster\n",
        "            ax.scatter(cluster[:, 0], cluster[:, 1], cluster[:, 2], label=f'Cluster {label}')# cluster becomes a new data frame now\n",
        "        ax.set_xlabel(\"PCA 1\")\n",
        "        ax.set_ylabel(\"PCA 2\")\n",
        "        ax.set_zlabel(\"PCA 3\")\n",
        "    else:\n",
        "        ax = fig.add_subplot(111)\n",
        "        for label in np.unique(selected_labels):\n",
        "            cluster = X_pca[selected_labels == label]\n",
        "            ax.scatter(cluster[:, 0], cluster[:, 1], label=f'Cluster {label}')# cluster becomes a new data frame now\n",
        "        ax.set_xlabel(\"PCA 1\")\n",
        "        ax.set_ylabel(\"PCA 2\")\n",
        "\n",
        "    ax.set_title(\"Hirarchial Clustering with PCA\")\n",
        "    ax.legend()\n",
        "\n",
        "    # Step 6: Save to buffer\n",
        "    buf = io.BytesIO()\n",
        "    plt.savefig(buf, format='png')\n",
        "    buf.seek(0)\n",
        "    plt.close(fig)\n",
        "    img = Image.open(buf).convert(\"RGB\")  # Ensure PIL Image in RGB\n",
        "\n",
        "\n",
        "    # Step 7: Return result\n",
        "    n_clusters = len(set(selected_labels)) - (1 if -1 in selected_labels else 0)\n",
        "    return (f'Selected number of clustering {n_clusters}',f'Best number of cluster {best_k}',img)"
      ],
      "metadata": {
        "id": "9LkbySF9FarC"
      },
      "execution_count": null,
      "outputs": []
    },
    {
      "cell_type": "markdown",
      "source": [
        "In this function, we have 2 parameters which are n_clusters and pca_components. In hierarchial clustering, we need to indentify the number of clusters. In the code above, I simply use silhouette_score to find out the number of clusters and PCA. We can select pca components(either from 1 to 4) but it will only display 3d plot if pca_components 3 is selected else it will only plot PCA1 and PCA2. If pca_components 1 is selected it will prompt error."
      ],
      "metadata": {
        "id": "cVylEl_aYzkl"
      }
    },
    {
      "cell_type": "markdown",
      "source": [
        "# 4.0 Launch GRADIO"
      ],
      "metadata": {
        "id": "gai4oD4PF3Ti"
      }
    },
    {
      "cell_type": "code",
      "source": [
        "with gr.Blocks() as demo:\n",
        "    gr.Markdown(\"### Hierarchical Clustering with PCA and 2D/3D Plot\")\n",
        "\n",
        "    with gr.Row():\n",
        "        n_clusters = gr.Slider(2, 10, value=3, step=1, label=\"Number of Clusters\")\n",
        "        pca_components = gr.Slider(1, 4, value=2, step=1, label=\"PCA Components\")\n",
        "\n",
        "    btn = gr.Button(\"Run Hierarchical Clustering\")\n",
        "\n",
        "   # output_text = gr.Textbox(label=\"Cluster Info\")\n",
        "    output_text1 = gr.Text(label=\"Selected number of clustering\")\n",
        "    output_text2 = gr.Text(label=\"Best number of cluster: \")\n",
        "    output_img = gr.Image(type=\"pil\", label=\"Cluster Plot\")\n",
        "\n",
        "    btn.click(fn=hierarchical_clustering,\n",
        "              inputs=[n_clusters, pca_components],\n",
        "              outputs=[output_text1, output_text2, output_img])\n",
        "\n",
        "demo.launch()"
      ],
      "metadata": {
        "colab": {
          "base_uri": "https://localhost:8080/",
          "height": 649
        },
        "id": "NMLmK9P7F_U1",
        "outputId": "75f6d98b-cf75-45a9-a668-27e809c1a5a0"
      },
      "execution_count": null,
      "outputs": [
        {
          "output_type": "stream",
          "name": "stdout",
          "text": [
            "It looks like you are running Gradio on a hosted Jupyter notebook, which requires `share=True`. Automatically setting `share=True` (you can turn this off by setting `share=False` in `launch()` explicitly).\n",
            "\n",
            "Colab notebook detected. To show errors in colab notebook, set debug=True in launch()\n",
            "* Running on public URL: https://b8258c6bb380841c92.gradio.live\n",
            "\n",
            "This share link expires in 1 week. For free permanent hosting and GPU upgrades, run `gradio deploy` from the terminal in the working directory to deploy to Hugging Face Spaces (https://huggingface.co/spaces)\n"
          ]
        },
        {
          "output_type": "display_data",
          "data": {
            "text/plain": [
              "<IPython.core.display.HTML object>"
            ],
            "text/html": [
              "<div><iframe src=\"https://b8258c6bb380841c92.gradio.live\" width=\"100%\" height=\"500\" allow=\"autoplay; camera; microphone; clipboard-read; clipboard-write;\" frameborder=\"0\" allowfullscreen></iframe></div>"
            ]
          },
          "metadata": {}
        },
        {
          "output_type": "execute_result",
          "data": {
            "text/plain": []
          },
          "metadata": {},
          "execution_count": 128
        }
      ]
    },
    {
      "cell_type": "markdown",
      "source": [
        "Since we apply PCA dimension reduction method, it shows that the best number of cluster is 2. Based on iris data set, there should be only 3 clusters. Although we use ward (it should be minimizing the variance within clusters) but in our case the closest cluster variances decreases after dimension reduction (PCA)."
      ],
      "metadata": {
        "id": "9iKDnu8xpa6T"
      }
    },
    {
      "cell_type": "markdown",
      "source": [
        "# **Another method using Hirerachical clustering + PCA + GRADIO**"
      ],
      "metadata": {
        "id": "-O3Z7wPBOVee"
      }
    },
    {
      "cell_type": "markdown",
      "source": [
        "# 1.0 Import necessary libraries and load data"
      ],
      "metadata": {
        "id": "dktEV_E1Oja1"
      }
    },
    {
      "cell_type": "code",
      "source": [
        "import gradio as gr\n",
        "import pandas as pd\n",
        "import numpy as np\n",
        "import matplotlib.pyplot as plt\n",
        "from sklearn.datasets import load_iris\n",
        "from sklearn.preprocessing import StandardScaler\n",
        "from sklearn.decomposition import PCA\n",
        "from sklearn.cluster import AgglomerativeClustering\n",
        "\n",
        "# Load dataset\n",
        "iris = load_iris()\n",
        "df = pd.DataFrame(iris.data, columns=iris.feature_names)"
      ],
      "metadata": {
        "id": "4103rKBpOo3y"
      },
      "execution_count": 16,
      "outputs": []
    },
    {
      "cell_type": "markdown",
      "source": [
        "# 2.0 Function"
      ],
      "metadata": {
        "id": "g5a5hRp6Owiu"
      }
    },
    {
      "cell_type": "code",
      "source": [
        "# Function: hierarchical clustering + PCA + plotting\n",
        "def hierarchical_clustering(n_clusters, x_axis, y_axis):\n",
        "    # Step 1: Standardize\n",
        "    scaler = StandardScaler()\n",
        "    X_scaled = scaler.fit_transform(df)\n",
        "\n",
        "    # Step 2: PCA\n",
        "    pca = PCA(n_components=4)\n",
        "    X_pca = pca.fit_transform(X_scaled)\n",
        "    pca_df = pd.DataFrame(X_pca, columns=['sepal length (cm)', 'sepal width (cm)', 'petal length (cm)', 'petal width (cm)'])# it becomes the new data frame now\n",
        "\n",
        "    # Step 3: Hierarchical clustering\n",
        "    model = AgglomerativeClustering(n_clusters=n_clusters)\n",
        "    labels = model.fit_predict(pca_df)\n",
        "#    labels = labels+1 # +1 ensures label start with cluster 1\n",
        "    pca_df['Cluster'] = labels\n",
        "\n",
        "    # Step 4: Plot\n",
        "    plt.figure(figsize=(8, 5))\n",
        "    for cluster in range(n_clusters):#loops through all cluster labels from 0 to n_cluster-1 (cluster wise filtering)\n",
        "        clustered_data = pca_df[pca_df['Cluster'] == cluster]#filters the data frame pca_df to only include rows where the 'Cluster' columns equals the current cluster number\n",
        "        plt.scatter(clustered_data[x_axis], clustered_data[y_axis], label=f'Cluster {cluster}')# clustered_data becomes new data frame now\n",
        "\n",
        "    plt.xlabel(x_axis)\n",
        "    plt.ylabel(y_axis)\n",
        "    plt.title(f'Hierarchical Clustering with {n_clusters} Clusters')\n",
        "    plt.legend()\n",
        "    plt.grid(True)\n",
        "\n",
        "    plot_path = \"hierarchical_plot.png\"\n",
        "    plt.savefig(plot_path)\n",
        "    plt.close()\n",
        "\n",
        "    return plot_path"
      ],
      "metadata": {
        "id": "LNAsSNg0O0Be"
      },
      "execution_count": 19,
      "outputs": []
    },
    {
      "cell_type": "markdown",
      "source": [
        "# 3.0 Launch GRADIO"
      ],
      "metadata": {
        "id": "sccKXyRaO7Qs"
      }
    },
    {
      "cell_type": "code",
      "source": [
        "# Gradio Interface\n",
        "with gr.Blocks() as demo:\n",
        "    gr.Markdown(\"## Hierarchical Clustering + PCA (Iris Dataset)\")\n",
        "\n",
        "    with gr.Row():\n",
        "        n_clusters = gr.Slider(2, 10, value=3, step=1, label=\"Number of Clusters\")\n",
        "\n",
        "    with gr.Row():\n",
        "        x_axis = gr.Dropdown(['sepal length (cm)', 'sepal width (cm)', 'petal length (cm)', 'petal width (cm)'], value='sepal length (cm)', label=\"X Axis (PCA)\")\n",
        "        y_axis = gr.Dropdown(['sepal length (cm)', 'sepal width (cm)', 'petal length (cm)', 'petal width (cm)'], value='sepal width (cm)', label=\"Y Axis (PCA)\")\n",
        "\n",
        "    btn = gr.Button(\"Run Clustering\")\n",
        "    output_img = gr.Image(type='filepath', label=\"Cluster Plot\")\n",
        "\n",
        "    btn.click(fn=hierarchical_clustering,\n",
        "              inputs=[n_clusters, x_axis, y_axis],\n",
        "              outputs=output_img)\n",
        "\n",
        "demo.launch()"
      ],
      "metadata": {
        "colab": {
          "base_uri": "https://localhost:8080/",
          "height": 649
        },
        "id": "Gh_uHK1qOipe",
        "outputId": "d4bc487e-a098-47a9-c7ea-2262bc11b801"
      },
      "execution_count": 20,
      "outputs": [
        {
          "output_type": "stream",
          "name": "stdout",
          "text": [
            "It looks like you are running Gradio on a hosted Jupyter notebook, which requires `share=True`. Automatically setting `share=True` (you can turn this off by setting `share=False` in `launch()` explicitly).\n",
            "\n",
            "Colab notebook detected. To show errors in colab notebook, set debug=True in launch()\n",
            "* Running on public URL: https://2d5b4788be7d5982cc.gradio.live\n",
            "\n",
            "This share link expires in 1 week. For free permanent hosting and GPU upgrades, run `gradio deploy` from the terminal in the working directory to deploy to Hugging Face Spaces (https://huggingface.co/spaces)\n"
          ]
        },
        {
          "output_type": "display_data",
          "data": {
            "text/plain": [
              "<IPython.core.display.HTML object>"
            ],
            "text/html": [
              "<div><iframe src=\"https://2d5b4788be7d5982cc.gradio.live\" width=\"100%\" height=\"500\" allow=\"autoplay; camera; microphone; clipboard-read; clipboard-write;\" frameborder=\"0\" allowfullscreen></iframe></div>"
            ]
          },
          "metadata": {}
        },
        {
          "output_type": "execute_result",
          "data": {
            "text/plain": []
          },
          "metadata": {},
          "execution_count": 20
        }
      ]
    },
    {
      "cell_type": "markdown",
      "source": [
        "Meanwhile for Hirerachial clustering, we need to determine the number of clustering.  Hirerachial clustering computes distance between all clusters (typically using Euclidean distance), then merges two closest cluster according to linkage. For this function, we are using 3 parameters which are n_cluster, x_axes and y_axes. We need to deterimine the number of cluster and it will plot automatically. We need to select PCA type (features type for x_axes and y_axes) too before it auto plots the data points."
      ],
      "metadata": {
        "id": "L4RHrvjlPQRj"
      }
    },
    {
      "cell_type": "markdown",
      "source": [
        "# **Another method using hirarchial clustering (linkage)**"
      ],
      "metadata": {
        "id": "PtUldLJnLrZh"
      }
    },
    {
      "cell_type": "markdown",
      "source": [
        "# **1.0 Import necessary libraries**"
      ],
      "metadata": {
        "id": "skKcLMPPLzc1"
      }
    },
    {
      "cell_type": "code",
      "source": [
        "import gradio as gr\n",
        "import pandas as pd\n",
        "import numpy as np\n",
        "import matplotlib.pyplot as plt\n",
        "from sklearn.datasets import load_iris\n",
        "from sklearn.preprocessing import StandardScaler\n",
        "from sklearn.decomposition import PCA\n",
        "from scipy.cluster.hierarchy import linkage, fcluster\n",
        "\n",
        "# Load dataset\n",
        "iris = load_iris()\n",
        "df = pd.DataFrame(iris.data, columns=iris.feature_names)"
      ],
      "metadata": {
        "id": "oA4dOdfFLyky"
      },
      "execution_count": 13,
      "outputs": []
    },
    {
      "cell_type": "markdown",
      "source": [
        "# **2.0 Create function**"
      ],
      "metadata": {
        "id": "l7fwkDIQMPuQ"
      }
    },
    {
      "cell_type": "code",
      "source": [
        "def hierarchical_clustering(n_clusters, x_axis, y_axis):\n",
        "    # Step 1: Standardize\n",
        "    scaler = StandardScaler()\n",
        "    X_scaled = scaler.fit_transform(df)\n",
        "\n",
        "    # Step 2: PCA\n",
        "    pca = PCA(n_components=4)\n",
        "    X_pca = pca.fit_transform(X_scaled)\n",
        "    pca_df = pd.DataFrame(X_pca, columns=['sepal length (cm)', 'sepal width (cm)', 'petal length (cm)', 'petal width (cm)'])# it becomes the new data frame now\n",
        "\n",
        "    # Step 3: Hierarchical clustering\n",
        "    Z = linkage(X_pca, method='ward')\n",
        "    labels = fcluster(Z, t=n_clusters, criterion='maxclust')\n",
        "   # labels=labels+1\n",
        "    pca_df['Cluster'] = labels\n",
        "\n",
        "    # Step 4: Plot\n",
        "    plt.figure(figsize=(8, 5))\n",
        "    for cluster in sorted(pca_df['Cluster'].unique()):\n",
        "        clustered_data = pca_df[pca_df['Cluster'] == cluster]#filters the data frame pca_df to only include rows where the 'Cluster' columns equals the current cluster number\n",
        "        plt.scatter(clustered_data[x_axis], clustered_data[y_axis], label=f'Cluster {cluster}')# clustered_data becomes new data frame now\n",
        "\n",
        "    plt.xlabel(x_axis)\n",
        "    plt.ylabel(y_axis)\n",
        "    plt.title(f'Hierarchical Clustering with {n_clusters} Clusters')\n",
        "    plt.legend()\n",
        "    plt.grid(True)\n",
        "\n",
        "    plot_path = \"hierarchical_plot.png\"\n",
        "    plt.savefig(plot_path)\n",
        "    plt.close()\n",
        "\n",
        "    return plot_path"
      ],
      "metadata": {
        "id": "63s_AyAeMTdp"
      },
      "execution_count": 14,
      "outputs": []
    },
    {
      "cell_type": "markdown",
      "source": [
        "# **3.0 Launch GRADIO**"
      ],
      "metadata": {
        "id": "oarQiRKsNNij"
      }
    },
    {
      "cell_type": "code",
      "source": [
        "# Gradio Interface\n",
        "with gr.Blocks() as demo:\n",
        "    gr.Markdown(\"## Hierarchical Clustering + PCA (Iris Dataset)\")\n",
        "\n",
        "    with gr.Row():\n",
        "        n_clusters = gr.Slider(2, 10, value=3, step=1, label=\"Number of Clusters\")\n",
        "\n",
        "    with gr.Row():\n",
        "        x_axis = gr.Dropdown(['sepal length (cm)', 'sepal width (cm)', 'petal length (cm)', 'petal width (cm)'], value='sepal length (cm)', label=\"X Axis (PCA)\")\n",
        "        y_axis = gr.Dropdown(['sepal length (cm)', 'sepal width (cm)', 'petal length (cm)', 'petal width (cm)'], value='sepal width (cm)', label=\"Y Axis (PCA)\")\n",
        "\n",
        "    btn = gr.Button(\"Run Clustering\")\n",
        "    output_img = gr.Image(type='filepath', label=\"Cluster Plot\")\n",
        "\n",
        "    btn.click(fn=hierarchical_clustering,\n",
        "              inputs=[n_clusters, x_axis, y_axis],\n",
        "              outputs=output_img)\n",
        "\n",
        "demo.launch()"
      ],
      "metadata": {
        "colab": {
          "base_uri": "https://localhost:8080/",
          "height": 649
        },
        "id": "I-BVC3uqNRoF",
        "outputId": "5fcde5e3-5774-43ee-ebd8-dec053ea737e"
      },
      "execution_count": 15,
      "outputs": [
        {
          "output_type": "stream",
          "name": "stdout",
          "text": [
            "It looks like you are running Gradio on a hosted Jupyter notebook, which requires `share=True`. Automatically setting `share=True` (you can turn this off by setting `share=False` in `launch()` explicitly).\n",
            "\n",
            "Colab notebook detected. To show errors in colab notebook, set debug=True in launch()\n",
            "* Running on public URL: https://4edf7c363dbd3b9058.gradio.live\n",
            "\n",
            "This share link expires in 1 week. For free permanent hosting and GPU upgrades, run `gradio deploy` from the terminal in the working directory to deploy to Hugging Face Spaces (https://huggingface.co/spaces)\n"
          ]
        },
        {
          "output_type": "display_data",
          "data": {
            "text/plain": [
              "<IPython.core.display.HTML object>"
            ],
            "text/html": [
              "<div><iframe src=\"https://4edf7c363dbd3b9058.gradio.live\" width=\"100%\" height=\"500\" allow=\"autoplay; camera; microphone; clipboard-read; clipboard-write;\" frameborder=\"0\" allowfullscreen></iframe></div>"
            ]
          },
          "metadata": {}
        },
        {
          "output_type": "execute_result",
          "data": {
            "text/plain": []
          },
          "metadata": {},
          "execution_count": 15
        }
      ]
    }
  ]
}